{
 "cells": [
  {
   "attachments": {},
   "cell_type": "markdown",
   "metadata": {},
   "source": [
    "# CP55 - Effective properties of lattice structures\n",
    "\n",
    "## Objectives\n",
    "\n",
    "We seek to investigate the **effective properties** obtained when homogenizing lattice cells. More precisely, we want to compute/generate:\n",
    "\n",
    "- The material stress-to-strain relationship matrix from the engineering constants,\n",
    "- The Directional stiffness modulus,\n",
    "- 3D plot of the directional stiffness modulus.\n",
    "\n",
    "This will enable us to visualize the possible anisotropy induced by the geometry of the cells, and to compare cells among themselves."
   ]
  },
  {
   "attachments": {},
   "cell_type": "markdown",
   "metadata": {},
   "source": [
    "## Elastic material tensor\n",
    "\n",
    "### Quick reminder\n",
    "\n",
    "In elasticity, the stress-strain relation is linear and can be written as: \n",
    "\n",
    "$$\\sigma_{ij} = C^{ij\\,kl}\\varepsilon_{kl},$$\n",
    "\n",
    "with $i,j,k,l = 1,2,~or~3$ and Einstein summation convention. This is known as the Hooke's law.\n",
    "\n",
    "Due to the symmetries, we can also represent the Hooke's law in matrix from as:\n",
    "\n",
    "$$\n",
    "\\begin{pmatrix}\n",
    "    \\sigma_{11} \\cr\n",
    "    \\sigma_{22} \\cr\n",
    "    \\sigma_{33} \\cr\n",
    "    \\sigma_{12} \\cr\n",
    "    \\sigma_{13} \\cr\n",
    "    \\sigma_{23}\n",
    "\\end{pmatrix}\n",
    "=\n",
    "\\begin{bmatrix}\n",
    "    C^{11\\,11} & C^{11\\,22} & C^{11\\,33} & C^{11\\,12} & C^{11\\,13} & C^{11\\,23} \\cr\n",
    "    C^{22\\,11} & C^{22\\,22} & C^{22\\,33} & C^{22\\,12} & C^{22\\,13} & C^{22\\,23} \\cr\n",
    "    C^{33\\,11} & C^{33\\,22} & C^{33\\,33} & C^{33\\,12} & C^{33\\,13} & C^{33\\,23} \\cr\n",
    "    C^{12\\,11} & C^{12\\,22} & C^{12\\,33} & C^{12\\,12} & C^{12\\,13} & C^{12\\,23} \\cr\n",
    "    C^{13\\,11} & C^{13\\,22} & C^{13\\,33} & C^{13\\,12} & C^{13\\,13} & C^{13\\,23} \\cr\n",
    "    C^{23\\,11} & C^{23\\,22} & C^{23\\,33} & C^{23\\,12} & C^{23\\,13} & C^{23\\,23}\n",
    "\\end{bmatrix}\n",
    "\\begin{pmatrix}\n",
    "    \\varepsilon_{11} \\cr\n",
    "    \\varepsilon_{22} \\cr\n",
    "    \\varepsilon_{33} \\cr\n",
    "    2\\varepsilon_{12} \\cr\n",
    "    2\\varepsilon_{13} \\cr\n",
    "    2\\varepsilon_{23}\n",
    "\\end{pmatrix}.\n",
    "$$\n",
    "\n",
    "We denote by $\\mathbf{C}$ this 6-by-6 matrix which represents the stiffness tensor.\n",
    "\n",
    "We can also represent the stress-to-strain law as:\n",
    "\n",
    "$$\n",
    "\\begin{pmatrix}\n",
    "    \\varepsilon_{11} \\cr\n",
    "    \\varepsilon_{22} \\cr\n",
    "    \\varepsilon_{33} \\cr\n",
    "    2\\varepsilon_{12} \\cr\n",
    "    2\\varepsilon_{13} \\cr\n",
    "    2\\varepsilon_{23}\n",
    "\\end{pmatrix}\n",
    "=\n",
    "\\begin{bmatrix}\n",
    "    S^{11\\,11} & S^{11\\,22} & S^{11\\,33} & 2S^{11\\,12} & 2S^{11\\,13} & 2S^{11\\,23} \\cr\n",
    "    S^{22\\,11} & S^{22\\,22} & S^{22\\,33} & 2S^{22\\,12} & 2S^{22\\,13} & 2S^{22\\,23} \\cr\n",
    "    S^{33\\,11} & S^{33\\,22} & S^{33\\,33} & 2S^{33\\,12} & 2S^{33\\,13} & 2S^{33\\,23} \\cr\n",
    "    2S^{12\\,11} & 2S^{12\\,22} & 2S^{12\\,33} & 4S^{12\\,12} & 4S^{12\\,13} & 4S^{12\\,23} \\cr\n",
    "    2S^{13\\,11} & 2S^{13\\,22} & 2S^{13\\,33} & 4S^{13\\,12} & 4S^{13\\,13} & 4S^{13\\,23} \\cr\n",
    "    2S^{23\\,11} & 2S^{23\\,22} & 2S^{23\\,33} & 4S^{23\\,12} & 4S^{23\\,13} & 4S^{23\\,23}\n",
    "\\end{bmatrix}\n",
    "\\begin{pmatrix}\n",
    "    \\sigma_{11} \\cr\n",
    "    \\sigma_{22} \\cr\n",
    "    \\sigma_{33} \\cr\n",
    "    \\sigma_{12} \\cr\n",
    "    \\sigma_{13} \\cr\n",
    "    \\sigma_{23}\n",
    "\\end{pmatrix}.\n",
    "$$\n",
    "\n",
    "We denote by $\\mathbf{S} = \\mathbf{C}^{-1}$ this 6-by-6 matrix which represents the compliance tensor.\n",
    "\n",
    "**Some specific cases**:\n",
    "\n",
    "- Isotropic behavior\n",
    "  - Same behavior in every direction.\n",
    "  - Can be defined via two parameters $E$ and $\\nu$.\n",
    "\n",
    "$$\n",
    "\\mathbf{C}_{iso}^{-1} = \\mathbf{S}_{iso}^{}\n",
    "=\n",
    "\\begin{bmatrix}\n",
    "    1/E & -\\nu/E & -\\nu/E \\cr\n",
    "    -\\nu/E & 1/E & -\\nu/E \\cr\n",
    "    -\\nu/E & -\\nu/E & 1/E \\cr\n",
    "    & & & 1/G \\cr\n",
    "    & & & & 1/G \\cr\n",
    "    & & & & & 1/G \\cr\n",
    "\\end{bmatrix},\n",
    "\\quad\\text{with}\\quad\n",
    "G = \\frac{E}{2(1+\\nu)}.\n",
    "$$\n",
    "\n",
    "- Orthotropic behavior\n",
    "  - Different properties along three orthogonal axes.\n",
    "  - Can be defined via nine engineering constants $E_{xx}, E_{yy}, E_{zz}, \\nu_{xy}, \\nu_{xz}, \\nu_{yz}, G_{xy}, G_{xz}, G_{yz}$.\n",
    "\n",
    "$$\n",
    "\\mathbf{C}_{ortho}^{-1} = \\mathbf{S}_{ortho}^{}\n",
    "=\n",
    "\\begin{bmatrix}\n",
    "    1/E_{xx} & -\\nu_{xy}/E_{xx} & -\\nu_{xz}/E_{xx} \\cr\n",
    "    -\\nu_{xy}/E_{xx} & 1/E_{yy} & -\\nu_{yz}/E_{yy} \\cr\n",
    "    -\\nu_{xz}/E_{xx} & -\\nu_{yz}/E_{yy} & 1/E_{zz} \\cr\n",
    "    & & & 1/G_{xy} \\cr\n",
    "    & & & & 1/G_{xz} \\cr\n",
    "    & & & & & 1/G_{yz} \\cr\n",
    "\\end{bmatrix}.\n",
    "$$\n",
    "\n",
    "**Task 1.** The starting points are the nine engineering constants that define the material tensor:"
   ]
  },
  {
   "cell_type": "code",
   "execution_count": 8,
   "metadata": {},
   "outputs": [],
   "source": [
    "# To do: define nine variables with names:\n",
    "# - Exx for the stiffness modulus in x direction.\n",
    "# - Eyy for the stiffness modulus in y direction.\n",
    "# - Ezz for the stiffness modulus in z direction.\n",
    "# - nuxy for the ratio in xy plane.\n",
    "# - nuxz for the ratio in xz plane.\n",
    "# - nuyz for the ratio in yz plane.\n",
    "# - Gxy for the shear modulus in xy plane.\n",
    "# - Gxz for the shear modulus in xz plane.\n",
    "# - Gyz for the shear modulus in yz plane."
   ]
  },
  {
   "attachments": {},
   "cell_type": "markdown",
   "metadata": {},
   "source": [
    "**Task 2.** Represent the material tensor in a matrix form:"
   ]
  },
  {
   "cell_type": "code",
   "execution_count": 9,
   "metadata": {},
   "outputs": [
    {
     "name": "stdout",
     "output_type": "stream",
     "text": [
      "[[1. 0. 0. 0. 0. 0.]\n",
      " [0. 1. 0. 0. 0. 0.]\n",
      " [0. 0. 1. 0. 0. 0.]\n",
      " [0. 0. 0. 1. 0. 0.]\n",
      " [0. 0. 0. 0. 1. 0.]\n",
      " [0. 0. 0. 0. 0. 1.]]\n"
     ]
    }
   ],
   "source": [
    "import numpy as np\n",
    "matSorthotropic = np.eye(6) # To do: replace this by the correct expression of the matrix\n",
    "print(matSorthotropic)"
   ]
  },
  {
   "attachments": {},
   "cell_type": "markdown",
   "metadata": {},
   "source": [
    "At this point, we have the stress-to-strain relationship, _i.e._ $\\boldsymbol{\\varepsilon} = \\mathbf{S}\\boldsymbol{\\sigma}$. \n",
    "\n",
    "In practice, one will need the strain-to-stress relationship, _i.e._ $\\boldsymbol{\\sigma} = \\mathbf{C}\\boldsymbol{\\varepsilon}$, where $\\mathbf{C} = \\mathbf{S}^{-1}$.\n",
    "\n",
    "**Task 3.** Inverse the matrix such that we obtain the strain-to-stress relationship:"
   ]
  },
  {
   "cell_type": "code",
   "execution_count": 10,
   "metadata": {},
   "outputs": [
    {
     "name": "stdout",
     "output_type": "stream",
     "text": [
      "[[1. 0. 0. 0. 0. 0.]\n",
      " [0. 1. 0. 0. 0. 0.]\n",
      " [0. 0. 1. 0. 0. 0.]\n",
      " [0. 0. 0. 1. 0. 0.]\n",
      " [0. 0. 0. 0. 1. 0.]\n",
      " [0. 0. 0. 0. 0. 1.]]\n"
     ]
    }
   ],
   "source": [
    "matCorthotropic = matSorthotropic # To do: replace this by the correct expression of the matrix\n",
    "print(matCorthotropic)"
   ]
  },
  {
   "attachments": {},
   "cell_type": "markdown",
   "metadata": {},
   "source": [
    "### Some postprocessing\n",
    "\n",
    "As the material behavior varies w.r.t. the direction of loading, it is convinent to look at the **directional stiffness modulus $E^{dir}$**, which is the stiffness modulus in a particular direction.\n",
    "\n",
    "Let us introduce a spherical coordinate system such that we can look at the stiffness in the direction defined by:\n",
    "\n",
    "$$\n",
    "    \\mathbf{u} = \\begin{pmatrix} \\sin{\\theta}\\cos{\\varphi} & \\sin{\\theta}\\sin{\\varphi} & \\cos{\\theta} \\end{pmatrix}.\n",
    "$$\n",
    "\n",
    "The directional stiffness modulus is obtained by applying a change of basis on the compliance material tensor:\n",
    "$$\n",
    "    \\frac{1}{E^{dir}} = S^{ij\\,kl} u_i u_j u_k u_l\n",
    "$$\n",
    "with $i,j,k,l = 1,2,~or~3$ and Einstein summation convention.\n",
    "\n",
    "\n",
    "**Task 4.** Define the direction unit vector $\\mathbf{u}$:"
   ]
  },
  {
   "cell_type": "code",
   "execution_count": 11,
   "metadata": {},
   "outputs": [],
   "source": [
    "theta = 45 # Polar angle in degree.\n",
    "phi = 45 # Azimuthal angle in degree.\n",
    "\n",
    "vecu = np.array([0.0, 0.0, 0.0]) # To do: put the correct expression of u here."
   ]
  },
  {
   "attachments": {},
   "cell_type": "markdown",
   "metadata": {},
   "source": [
    "**Task 5.** Compute the directional stiffness modulus $E^{dir}$ and print the result:"
   ]
  },
  {
   "cell_type": "code",
   "execution_count": 12,
   "metadata": {},
   "outputs": [
    {
     "name": "stdout",
     "output_type": "stream",
     "text": [
      "Directional stiffness modulus for theta=45.00 and phi=45.00 is Edir=1.00 MPa.\n"
     ]
    }
   ],
   "source": [
    "# To do: implement the computation of Edir which depends on `vecu` and `matSorthotropic`.\n",
    "Edir = 1.00 \n",
    "\n",
    "print('Directional stiffness modulus for theta=%3.2f and phi=%3.2f is Edir=%.2f MPa.' % (theta, phi, Edir))"
   ]
  },
  {
   "attachments": {},
   "cell_type": "markdown",
   "metadata": {},
   "source": [
    "Let us try to generate a 3D plot that represents the directional stiffness modulus in every direction of the space.\n",
    "\n",
    "In order to do that, we will select several values of $\\theta\\in[0,180]$, and $\\varphi\\in[0,360]$, and compute the modulus for each pair of angles.\n",
    "\n",
    "**Task 6.** Generate data for 3D plotting the directional stiffness modulus: "
   ]
  },
  {
   "cell_type": "code",
   "execution_count": 13,
   "metadata": {},
   "outputs": [],
   "source": [
    "n = 100 # number of values per direction\n",
    "thetavalues = np.linspace(0, 180, n+1)\n",
    "phivalues = np.linspace(0, 360, 2*n+1)\n",
    "\n",
    "\n",
    "# To do: complete the following function based on previous implementation of the directional stiffness modulus.\n",
    "def directionalmodulus(matS:np.ndarray ,theta:float, phi:float):\n",
    "    '''Compute the directional stiffness modulus in a spherical coordinate system.\n",
    "\n",
    "    Parameters\n",
    "    ----------\n",
    "    matS : ndarray\n",
    "        A 6-by-6 matrix defining the linear stress-to-strain relationship\n",
    "        using the voigt notation.\n",
    "    theta : float\n",
    "        Polar angle in degree.\n",
    "    phi : float\n",
    "        Azimuthal angle in degree.\n",
    "\n",
    "    Returns\n",
    "    -------\n",
    "    vecEdir : ndarray\n",
    "        Directional stiffness modulus.\n",
    "    '''\n",
    "    vecEdir = np.array([0,0,0])\n",
    "    return vecEdir\n",
    "\n",
    "# We collect all \n",
    "data = []\n",
    "for phi in phivalues:\n",
    "        for theta in thetavalues:\n",
    "            vecEdir = directionalmodulus(matSorthotropic, theta, phi)\n",
    "            data.append(vecEdir.copy())\n",
    "data = np.array(data)"
   ]
  },
  {
   "attachments": {},
   "cell_type": "markdown",
   "metadata": {},
   "source": [
    "**Task 7.** Display the result using matplotlib:"
   ]
  },
  {
   "cell_type": "code",
   "execution_count": 14,
   "metadata": {},
   "outputs": [
    {
     "data": {
      "image/png": "[encoded data removed]",
      "text/plain": [
       "<Figure size 640x480 with 2 Axes>"
      ]
     },
     "metadata": {},
     "output_type": "display_data"
    }
   ],
   "source": [
    "from matplotlib import pyplot as plt\n",
    "\n",
    "shp = (thetavalues.size,phivalues.size)\n",
    "X = np.reshape(data[:,0], shp, order='F')\n",
    "Y = np.reshape(data[:,1], shp, order='F')\n",
    "Z = np.reshape(data[:,2], shp, order='F')\n",
    "\n",
    "norm = plt.Normalize(vmin=0)\n",
    "facecolors = plt.cm.jet(norm(np.sqrt(X**2 + Y**2 + Z**2)))\n",
    "\n",
    "fig = plt.figure()\n",
    "ax = fig.add_subplot(111, projection='3d')\n",
    "surf = ax.plot_surface(X,Y,Z, facecolors=facecolors, rstride=1, cstride=1)\n",
    "ax.set_proj_type('ortho')\n",
    "ax.set_aspect('equal')\n",
    "ax.set_xlabel('x')\n",
    "ax.set_ylabel('y')\n",
    "ax.set_zlabel('z')\n",
    "ax.set_xticks([])\n",
    "ax.set_yticks([])\n",
    "ax.set_zticks([])\n",
    "#ax.set_title('Exx:%.1f, Eyy:%.1f, Ezz:%.1f, nuxy:%.2f, nuxz:%.2f, nuyz:%.2f, Gxy:%.1f, Gxz:%.1f, Gyz:%.1f'%\n",
    "#              (Exx, Eyy, Ezz, nuxy, nuxz, nuyz, Gxy, Gxz, Gyz))\n",
    "m = plt.cm.ScalarMappable(cmap=plt.cm.jet, norm=norm)\n",
    "m.set_array([])\n",
    "ax2 = fig.colorbar(m, ax=ax, shrink=0.4, aspect=20, orientation=\"horizontal\")\n",
    "ax2.set_label('Directional Stiffness [GPa]')\n",
    "\n",
    "plt.show()"
   ]
  }
 ],
 "metadata": {
  "kernelspec": {
   "display_name": "adam2dev",
   "language": "python",
   "name": "python3"
  },
  "language_info": {
   "codemirror_mode": {
    "name": "ipython",
    "version": 3
   },
   "file_extension": ".py",
   "mimetype": "text/x-python",
   "name": "python",
   "nbconvert_exporter": "python",
   "pygments_lexer": "ipython3",
   "version": "3.11.2"
  },
  "orig_nbformat": 4
 },
 "nbformat": 4,
 "nbformat_minor": 2
}
